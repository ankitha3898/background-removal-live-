{
 "cells": [
  {
   "cell_type": "code",
   "execution_count": 2,
   "id": "f5a13858",
   "metadata": {},
   "outputs": [
    {
     "name": "stdout",
     "output_type": "stream",
     "text": [
      "[('Hero', 0.8333333333333334), ('Sero', 0.09090909090909091), ('Zero', 0.07575757575757576)]\n"
     ]
    }
   ],
   "source": [
    "from pattern.en import suggest\n",
    "\n",
    "print(suggest(\"Hero\"))\n",
    "\n"
   ]
  },
  {
   "cell_type": "code",
   "execution_count": 4,
   "id": "021ec694",
   "metadata": {},
   "outputs": [
    {
     "name": "stdout",
     "output_type": "stream",
     "text": [
      "Collecting pattern\n",
      "  Downloading Pattern-3.6.0.tar.gz (22.2 MB)\n",
      "     ---------------------------------------- 22.2/22.2 MB 5.5 MB/s eta 0:00:00\n",
      "  Preparing metadata (setup.py): started\n",
      "  Preparing metadata (setup.py): finished with status 'done'\n",
      "Requirement already satisfied: future in c:\\users\\elorce\\anaconda3\\lib\\site-packages (from pattern) (0.18.3)\n",
      "Collecting backports.csv\n",
      "  Downloading backports.csv-1.0.7-py2.py3-none-any.whl (12 kB)\n",
      "Collecting mysqlclient\n",
      "  Downloading mysqlclient-2.2.0-cp310-cp310-win_amd64.whl (199 kB)\n",
      "     -------------------------------------- 199.9/199.9 kB 6.1 MB/s eta 0:00:00\n",
      "Requirement already satisfied: beautifulsoup4 in c:\\users\\elorce\\anaconda3\\lib\\site-packages (from pattern) (4.11.1)\n",
      "Requirement already satisfied: lxml in c:\\users\\elorce\\anaconda3\\lib\\site-packages (from pattern) (4.9.1)\n",
      "Collecting feedparser\n",
      "  Downloading feedparser-6.0.10-py3-none-any.whl (81 kB)\n",
      "     ---------------------------------------- 81.1/81.1 kB ? eta 0:00:00\n",
      "Collecting pdfminer.six\n",
      "  Downloading pdfminer.six-20221105-py3-none-any.whl (5.6 MB)\n",
      "     ---------------------------------------- 5.6/5.6 MB 6.2 MB/s eta 0:00:00\n",
      "Requirement already satisfied: numpy in c:\\users\\elorce\\anaconda3\\lib\\site-packages (from pattern) (1.23.5)\n",
      "Requirement already satisfied: scipy in c:\\users\\elorce\\anaconda3\\lib\\site-packages (from pattern) (1.10.0)\n",
      "Requirement already satisfied: nltk in c:\\users\\elorce\\anaconda3\\lib\\site-packages (from pattern) (3.7)\n",
      "Collecting python-docx\n",
      "  Downloading python-docx-0.8.11.tar.gz (5.6 MB)\n",
      "     ---------------------------------------- 5.6/5.6 MB 6.3 MB/s eta 0:00:00\n",
      "  Preparing metadata (setup.py): started\n",
      "  Preparing metadata (setup.py): finished with status 'done'\n",
      "Collecting cherrypy\n",
      "  Downloading CherryPy-18.8.0-py2.py3-none-any.whl (348 kB)\n",
      "     ------------------------------------- 348.4/348.4 kB 10.9 MB/s eta 0:00:00\n",
      "Requirement already satisfied: requests in c:\\users\\elorce\\anaconda3\\lib\\site-packages (from pattern) (2.30.0)\n",
      "Requirement already satisfied: soupsieve>1.2 in c:\\users\\elorce\\anaconda3\\lib\\site-packages (from beautifulsoup4->pattern) (2.3.2.post1)\n",
      "Collecting jaraco.collections\n",
      "  Downloading jaraco.collections-4.3.0-py3-none-any.whl (11 kB)\n",
      "Collecting zc.lockfile\n",
      "  Downloading zc.lockfile-3.0.post1-py3-none-any.whl (9.8 kB)\n",
      "Collecting portend>=2.1.1\n",
      "  Downloading portend-3.1.0-py3-none-any.whl (5.3 kB)\n",
      "Collecting more-itertools\n",
      "  Using cached more_itertools-9.1.0-py3-none-any.whl (54 kB)\n",
      "Collecting cheroot>=8.2.1\n",
      "  Downloading cheroot-10.0.0-py3-none-any.whl (101 kB)\n",
      "     -------------------------------------- 101.6/101.6 kB 6.1 MB/s eta 0:00:00\n",
      "Collecting sgmllib3k\n",
      "  Downloading sgmllib3k-1.0.0.tar.gz (5.8 kB)\n",
      "  Preparing metadata (setup.py): started\n",
      "  Preparing metadata (setup.py): finished with status 'done'\n",
      "Requirement already satisfied: tqdm in c:\\users\\elorce\\anaconda3\\lib\\site-packages (from nltk->pattern) (4.65.0)\n",
      "Requirement already satisfied: joblib in c:\\users\\elorce\\anaconda3\\lib\\site-packages (from nltk->pattern) (1.1.1)\n",
      "Requirement already satisfied: regex>=2021.8.3 in c:\\users\\elorce\\anaconda3\\lib\\site-packages (from nltk->pattern) (2022.7.9)\n",
      "Requirement already satisfied: click in c:\\users\\elorce\\anaconda3\\lib\\site-packages (from nltk->pattern) (8.0.4)\n",
      "Requirement already satisfied: charset-normalizer>=2.0.0 in c:\\users\\elorce\\anaconda3\\lib\\site-packages (from pdfminer.six->pattern) (2.0.4)\n",
      "Requirement already satisfied: cryptography>=36.0.0 in c:\\users\\elorce\\anaconda3\\lib\\site-packages (from pdfminer.six->pattern) (39.0.1)\n",
      "Requirement already satisfied: certifi>=2017.4.17 in c:\\users\\elorce\\anaconda3\\lib\\site-packages (from requests->pattern) (2022.12.7)\n",
      "Requirement already satisfied: idna<4,>=2.5 in c:\\users\\elorce\\anaconda3\\lib\\site-packages (from requests->pattern) (2.10)\n",
      "Requirement already satisfied: urllib3<3,>=1.21.1 in c:\\users\\elorce\\anaconda3\\lib\\site-packages (from requests->pattern) (1.26.14)\n",
      "Collecting jaraco.functools\n",
      "  Downloading jaraco.functools-3.8.0-py3-none-any.whl (8.2 kB)\n",
      "Requirement already satisfied: cffi>=1.12 in c:\\users\\elorce\\anaconda3\\lib\\site-packages (from cryptography>=36.0.0->pdfminer.six->pattern) (1.15.1)\n",
      "Collecting tempora>=1.8\n",
      "  Downloading tempora-5.3.0-py3-none-any.whl (13 kB)\n",
      "Requirement already satisfied: colorama in c:\\users\\elorce\\anaconda3\\lib\\site-packages (from click->nltk->pattern) (0.4.6)\n",
      "Collecting jaraco.text\n",
      "  Downloading jaraco.text-3.11.1-py3-none-any.whl (11 kB)\n",
      "Requirement already satisfied: setuptools in c:\\users\\elorce\\anaconda3\\lib\\site-packages (from zc.lockfile->cherrypy->pattern) (65.6.3)\n",
      "Requirement already satisfied: pycparser in c:\\users\\elorce\\anaconda3\\lib\\site-packages (from cffi>=1.12->cryptography>=36.0.0->pdfminer.six->pattern) (2.21)\n",
      "Requirement already satisfied: pytz in c:\\users\\elorce\\anaconda3\\lib\\site-packages (from tempora>=1.8->portend>=2.1.1->cherrypy->pattern) (2022.7)\n",
      "Collecting inflect\n",
      "  Downloading inflect-6.0.4-py3-none-any.whl (34 kB)\n",
      "Collecting autocommand\n",
      "  Downloading autocommand-2.2.2-py3-none-any.whl (19 kB)\n",
      "Collecting jaraco.context>=4.1\n",
      "  Downloading jaraco.context-4.3.0-py3-none-any.whl (5.3 kB)\n",
      "Collecting pydantic>=1.9.1\n",
      "  Downloading pydantic-1.10.9-cp310-cp310-win_amd64.whl (2.1 MB)\n",
      "     ---------------------------------------- 2.1/2.1 MB 6.4 MB/s eta 0:00:00\n",
      "Requirement already satisfied: typing-extensions>=4.2.0 in c:\\users\\elorce\\anaconda3\\lib\\site-packages (from pydantic>=1.9.1->inflect->jaraco.text->jaraco.collections->cherrypy->pattern) (4.4.0)\n",
      "Building wheels for collected packages: pattern, python-docx, sgmllib3k\n",
      "  Building wheel for pattern (setup.py): started\n",
      "  Building wheel for pattern (setup.py): finished with status 'done'\n",
      "  Created wheel for pattern: filename=Pattern-3.6-py3-none-any.whl size=22332714 sha256=35637647c6a47e72175ad872695c571a08886c426ed1d65e1c348a83ccbf18b1\n",
      "  Stored in directory: c:\\users\\elorce\\appdata\\local\\pip\\cache\\wheels\\90\\f0\\3e\\1eb14c73588b17229732143519a121612110c780d47f862b11\n",
      "  Building wheel for python-docx (setup.py): started\n",
      "  Building wheel for python-docx (setup.py): finished with status 'done'\n",
      "  Created wheel for python-docx: filename=python_docx-0.8.11-py3-none-any.whl size=184519 sha256=02c66b16c0ca193aa6d81347ae9b5ca795060860665993afd5e05be3172d6308\n",
      "  Stored in directory: c:\\users\\elorce\\appdata\\local\\pip\\cache\\wheels\\65\\e1\\9b\\0c38fe6cfe02a9fe31cb6b4efd90985f17354d7f77872f2def\n",
      "  Building wheel for sgmllib3k (setup.py): started\n",
      "  Building wheel for sgmllib3k (setup.py): finished with status 'done'\n",
      "  Created wheel for sgmllib3k: filename=sgmllib3k-1.0.0-py3-none-any.whl size=6061 sha256=013941ec726a6fb3e511f764428a76767cf67591301e6ec513d1fbba90357630\n",
      "  Stored in directory: c:\\users\\elorce\\appdata\\local\\pip\\cache\\wheels\\3b\\24\\68\\f82c1fe16fe6cc7c6f9f67fe4bbf2a4ce527dea6b14a4b34ee\n",
      "Successfully built pattern python-docx sgmllib3k\n",
      "Installing collected packages: sgmllib3k, backports.csv, zc.lockfile, python-docx, pydantic, mysqlclient, more-itertools, jaraco.context, feedparser, autocommand, jaraco.functools, inflect, tempora, pdfminer.six, jaraco.text, cheroot, portend, jaraco.collections, cherrypy, pattern\n",
      "Successfully installed autocommand-2.2.2 backports.csv-1.0.7 cheroot-10.0.0 cherrypy-18.8.0 feedparser-6.0.10 inflect-6.0.4 jaraco.collections-4.3.0 jaraco.context-4.3.0 jaraco.functools-3.8.0 jaraco.text-3.11.1 more-itertools-9.1.0 mysqlclient-2.2.0 pattern-3.6 pdfminer.six-20221105 portend-3.1.0 pydantic-1.10.9 python-docx-0.8.11 sgmllib3k-1.0.0 tempora-5.3.0 zc.lockfile-3.0.post1\n"
     ]
    }
   ],
   "source": [
    "!pip install pattern"
   ]
  },
  {
   "cell_type": "code",
   "execution_count": 4,
   "id": "1fdb6fac",
   "metadata": {},
   "outputs": [
    {
     "ename": "ImportError",
     "evalue": "cannot import name 'Iterable' from 'collections' (C:\\Users\\Elorce\\anaconda3\\lib\\collections\\__init__.py)",
     "output_type": "error",
     "traceback": [
      "\u001b[1;31m---------------------------------------------------------------------------\u001b[0m",
      "\u001b[1;31mImportError\u001b[0m                               Traceback (most recent call last)",
      "Cell \u001b[1;32mIn[4], line 1\u001b[0m\n\u001b[1;32m----> 1\u001b[0m \u001b[38;5;28;01mfrom\u001b[39;00m \u001b[38;5;21;01mpattern\u001b[39;00m\u001b[38;5;21;01m.\u001b[39;00m\u001b[38;5;21;01mweb\u001b[39;00m \u001b[38;5;28;01mimport\u001b[39;00m Twitter\n\u001b[0;32m      3\u001b[0m twitter \u001b[38;5;241m=\u001b[39m Twitter()\n\u001b[0;32m      5\u001b[0m \u001b[38;5;28;01mfor\u001b[39;00m results \u001b[38;5;129;01min\u001b[39;00m twitter\u001b[38;5;241m.\u001b[39msearch(\u001b[38;5;124m'\u001b[39m\u001b[38;5;124mAnalytics India Magazine\u001b[39m\u001b[38;5;124m'\u001b[39m):\n",
      "File \u001b[1;32m~\\anaconda3\\lib\\site-packages\\pattern\\web\\__init__.py:20\u001b[0m\n\u001b[0;32m     17\u001b[0m \u001b[38;5;28;01mfrom\u001b[39;00m \u001b[38;5;21;01mbuiltins\u001b[39;00m \u001b[38;5;28;01mimport\u001b[39;00m \u001b[38;5;28mmap\u001b[39m, \u001b[38;5;28mfilter\u001b[39m, \u001b[38;5;28mzip\u001b[39m\n\u001b[0;32m     18\u001b[0m \u001b[38;5;28;01mfrom\u001b[39;00m \u001b[38;5;21;01mbuiltins\u001b[39;00m \u001b[38;5;28;01mimport\u001b[39;00m \u001b[38;5;28mobject\u001b[39m, \u001b[38;5;28mrange\u001b[39m, \u001b[38;5;28mnext\u001b[39m\n\u001b[1;32m---> 20\u001b[0m \u001b[38;5;28;01mfrom\u001b[39;00m \u001b[38;5;21;01m.\u001b[39;00m\u001b[38;5;21;01mutils\u001b[39;00m \u001b[38;5;28;01mimport\u001b[39;00m get_url_query, get_form_action, stringify_values, json_iter_parse\n\u001b[0;32m     22\u001b[0m \u001b[38;5;28;01mimport\u001b[39;00m \u001b[38;5;21;01mos\u001b[39;00m\n\u001b[0;32m     23\u001b[0m \u001b[38;5;28;01mimport\u001b[39;00m \u001b[38;5;21;01msys\u001b[39;00m\n",
      "File \u001b[1;32m~\\anaconda3\\lib\\site-packages\\pattern\\web\\utils.py:2\u001b[0m\n\u001b[0;32m      1\u001b[0m \u001b[38;5;28;01mimport\u001b[39;00m \u001b[38;5;21;01mre\u001b[39;00m\n\u001b[1;32m----> 2\u001b[0m \u001b[38;5;28;01mfrom\u001b[39;00m \u001b[38;5;21;01mcollections\u001b[39;00m \u001b[38;5;28;01mimport\u001b[39;00m Iterable\n\u001b[0;32m      4\u001b[0m \u001b[38;5;28;01mtry\u001b[39;00m:\n\u001b[0;32m      5\u001b[0m     \u001b[38;5;66;03m# Python 2\u001b[39;00m\n\u001b[0;32m      6\u001b[0m     str_type \u001b[38;5;241m=\u001b[39m unicode\n",
      "\u001b[1;31mImportError\u001b[0m: cannot import name 'Iterable' from 'collections' (C:\\Users\\Elorce\\anaconda3\\lib\\collections\\__init__.py)"
     ]
    }
   ],
   "source": [
    "from pattern.web import Twitter\n",
    "\n",
    "twitter = Twitter()\n",
    "\n",
    "for results in twitter.search('Analytics India Magazine'):\n",
    "\n",
    "    print(results.url)\n",
    "\n",
    "    print(results.text)\n",
    "\n"
   ]
  },
  {
   "cell_type": "code",
   "execution_count": 6,
   "id": "8b43f929",
   "metadata": {},
   "outputs": [
    {
     "name": "stderr",
     "output_type": "stream",
     "text": [
      "C:\\Users\\Elorce\\anaconda3\\lib\\site-packages\\fuzzywuzzy\\fuzz.py:11: UserWarning: Using slow pure-python SequenceMatcher. Install python-Levenshtein to remove this warning\n",
      "  warnings.warn('Using slow pure-python SequenceMatcher. Install python-Levenshtein to remove this warning')\n"
     ]
    }
   ],
   "source": [
    "from fuzzywuzzy import fuzz\n",
    "from fuzzywuzzy import process"
   ]
  },
  {
   "cell_type": "code",
   "execution_count": 43,
   "id": "445c14cc",
   "metadata": {},
   "outputs": [
    {
     "data": {
      "text/plain": [
       "37"
      ]
     },
     "execution_count": 43,
     "metadata": {},
     "output_type": "execute_result"
    }
   ],
   "source": [
    "fuzz.ratio('London', 'Lndon is a large city')\n"
   ]
  },
  {
   "cell_type": "code",
   "execution_count": 40,
   "id": "d2292c18",
   "metadata": {},
   "outputs": [
    {
     "name": "stdout",
     "output_type": "stream",
     "text": [
      "Ratio: 61\n",
      "Partial Ratio: 67\n"
     ]
    }
   ],
   "source": [
    "b1 = \"The Samsung Group is a South Korean multinational conglomerate headquartered in Samsung Town, Seoul.\"\n",
    "b2 = \"Samsung Group is a South Korean company based in Seoul\"\n",
    "\n",
    "Ratio = fuzz.ratio(b1.lower(),b2.lower())\n",
    "Partial_Ratio = fuzz.partial_ratio(b1.lower(),b2.lower())\n",
    "\n",
    "print(\"Ratio:\",Ratio)\n",
    "print(\"Partial Ratio:\",Partial_Ratio)\n"
   ]
  },
  {
   "cell_type": "code",
   "execution_count": 41,
   "id": "5902e8c5",
   "metadata": {},
   "outputs": [],
   "source": [
    "Token_Set_Ratio = fuzz.token_set_ratio(b1.lower(),b2.lower())\n"
   ]
  },
  {
   "cell_type": "code",
   "execution_count": 42,
   "id": "681927e6",
   "metadata": {},
   "outputs": [
    {
     "data": {
      "text/plain": [
       "85"
      ]
     },
     "execution_count": 42,
     "metadata": {},
     "output_type": "execute_result"
    }
   ],
   "source": [
    "Token_Set_Ratio"
   ]
  },
  {
   "cell_type": "code",
   "execution_count": 2,
   "id": "6ee03207",
   "metadata": {},
   "outputs": [
    {
     "name": "stdout",
     "output_type": "stream",
     "text": [
      "0 1 2 3 4 5 \n",
      "1 0 0 0 0 0 \n",
      "2 0 0 0 0 0 \n",
      "3 0 0 0 0 0 \n",
      "4 0 0 0 0 0 \n",
      "5 0 0 0 0 0 \n",
      "6 0 0 0 0 0 \n",
      "7 0 0 0 0 0 \n",
      "8 0 0 0 0 0 \n",
      "9 0 0 0 0 0 \n",
      "10 0 0 0 0 0 \n",
      "11 0 0 0 0 0 \n",
      "12 0 0 0 0 0 \n",
      "13 0 0 0 0 0 \n",
      "14 0 0 0 0 0 \n",
      "15 0 0 0 0 0 \n",
      "16 0 0 0 0 0 \n",
      "17 0 0 0 0 0 \n"
     ]
    },
    {
     "data": {
      "text/plain": [
       "0"
      ]
     },
     "execution_count": 2,
     "metadata": {},
     "output_type": "execute_result"
    }
   ],
   "source": [
    "import numpy\n",
    "\n",
    "def levenshteinDistanceDP(token1, token2):\n",
    "    distances = numpy.zeros((len(token1) + 1, len(token2) + 1))\n",
    "\n",
    "    for t1 in range(len(token1) + 1):\n",
    "        distances[t1][0] = t1\n",
    "\n",
    "    for t2 in range(len(token2) + 1):\n",
    "        distances[0][t2] = t2\n",
    "        \n",
    "    printDistances(distances, len(token1), len(token2))\n",
    "    return 0\n",
    "\n",
    "def printDistances(distances, token1Length, token2Length):\n",
    "    for t1 in range(token1Length + 1):\n",
    "        for t2 in range(token2Length + 1):\n",
    "            print(int(distances[t1][t2]), end=\" \")\n",
    "        print()\n",
    "        \n",
    "levenshteinDistanceDP(\"hello how are you\", \"hello\")\n"
   ]
  },
  {
   "cell_type": "code",
   "execution_count": null,
   "id": "168edfb3",
   "metadata": {},
   "outputs": [],
   "source": []
  },
  {
   "cell_type": "code",
   "execution_count": null,
   "id": "7f6e221e",
   "metadata": {},
   "outputs": [],
   "source": []
  },
  {
   "cell_type": "code",
   "execution_count": null,
   "id": "05123e45",
   "metadata": {},
   "outputs": [],
   "source": []
  },
  {
   "cell_type": "code",
   "execution_count": null,
   "id": "c6cce04a",
   "metadata": {},
   "outputs": [],
   "source": []
  },
  {
   "cell_type": "code",
   "execution_count": null,
   "id": "38e4e659",
   "metadata": {},
   "outputs": [],
   "source": []
  },
  {
   "cell_type": "code",
   "execution_count": null,
   "id": "ad25e18d",
   "metadata": {},
   "outputs": [],
   "source": []
  },
  {
   "cell_type": "code",
   "execution_count": null,
   "id": "83540219",
   "metadata": {},
   "outputs": [],
   "source": []
  },
  {
   "cell_type": "code",
   "execution_count": null,
   "id": "aad6ff04",
   "metadata": {},
   "outputs": [],
   "source": []
  },
  {
   "cell_type": "code",
   "execution_count": null,
   "id": "0bb74a32",
   "metadata": {},
   "outputs": [],
   "source": []
  },
  {
   "cell_type": "code",
   "execution_count": null,
   "id": "cd6a6e90",
   "metadata": {},
   "outputs": [],
   "source": []
  },
  {
   "cell_type": "code",
   "execution_count": null,
   "id": "537daef1",
   "metadata": {},
   "outputs": [],
   "source": []
  },
  {
   "cell_type": "code",
   "execution_count": null,
   "id": "ef9cbba7",
   "metadata": {},
   "outputs": [],
   "source": []
  },
  {
   "cell_type": "code",
   "execution_count": null,
   "id": "1e7e434e",
   "metadata": {},
   "outputs": [],
   "source": []
  },
  {
   "cell_type": "code",
   "execution_count": null,
   "id": "763a8f17",
   "metadata": {},
   "outputs": [],
   "source": []
  },
  {
   "cell_type": "code",
   "execution_count": null,
   "id": "bf3099b0",
   "metadata": {},
   "outputs": [],
   "source": []
  },
  {
   "cell_type": "code",
   "execution_count": null,
   "id": "61900aff",
   "metadata": {},
   "outputs": [],
   "source": []
  }
 ],
 "metadata": {
  "kernelspec": {
   "display_name": "Python 3 (ipykernel)",
   "language": "python",
   "name": "python3"
  },
  "language_info": {
   "codemirror_mode": {
    "name": "ipython",
    "version": 3
   },
   "file_extension": ".py",
   "mimetype": "text/x-python",
   "name": "python",
   "nbconvert_exporter": "python",
   "pygments_lexer": "ipython3",
   "version": "3.10.9"
  }
 },
 "nbformat": 4,
 "nbformat_minor": 5
}
