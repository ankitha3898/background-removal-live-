{
 "cells": [
  {
   "cell_type": "code",
   "execution_count": 1,
   "id": "8b6684aa",
   "metadata": {},
   "outputs": [],
   "source": [
    "import numpy as np\n",
    "import mediapipe as mp\n",
    "import cv2\n",
    "import cvzone\n",
    "from cvzone.SelfiSegmentationModule import SelfiSegmentation"
   ]
  },
  {
   "cell_type": "code",
   "execution_count": 2,
   "id": "0d635f78",
   "metadata": {},
   "outputs": [],
   "source": [
    "seg=mp.solutions.selfie_segmentation.SelfieSegmentation(model_selection=1)"
   ]
  },
  {
   "cell_type": "code",
   "execution_count": 3,
   "id": "b383ccce",
   "metadata": {},
   "outputs": [],
   "source": [
    "bachgrd=cv2.imread(r'C:/Users/Elorce/Downloads/1.jpg')"
   ]
  },
  {
   "cell_type": "code",
   "execution_count": 4,
   "id": "1df1ebf5",
   "metadata": {},
   "outputs": [],
   "source": [
    "cap=cv2.VideoCapture(0)\n",
    "cap.set(3,648)\n",
    "cap.set(4,488)\n",
    "cap.set(cv2.CAP_PROP_FPS,68)\n",
    "segmentor=SelfiSegmentation()\n",
    "# fpsReader=cvzone.FPS()\n",
    "imgBG=cv2.imread(r'images/1.jpg')\n",
    "imgBG = cv2.resize(imgBG, (640, 480))\n",
    "\n",
    "while True:\n",
    "    success,img=cap.read()\n",
    "    imgOut=segmentor.removeBG(img,imgBG,cutThreshold=0.6)\n",
    "#     cv2.imshow('img',img)\n",
    "    cv2.imshow('imgout',imgOut)\n",
    "    if cv2.waitKey(0) == ord('q'):\n",
    "         break\n",
    "cap.release()\n",
    "cv2.destroyAllWindows()"
   ]
  },
  {
   "cell_type": "markdown",
   "id": "8ed9e2ec",
   "metadata": {},
   "source": []
  },
  {
   "cell_type": "code",
   "execution_count": null,
   "id": "0a773430",
   "metadata": {},
   "outputs": [],
   "source": []
  },
  {
   "cell_type": "code",
   "execution_count": null,
   "id": "3dfc7108",
   "metadata": {},
   "outputs": [],
   "source": []
  },
  {
   "cell_type": "code",
   "execution_count": null,
   "id": "c6825416",
   "metadata": {},
   "outputs": [],
   "source": []
  },
  {
   "cell_type": "code",
   "execution_count": null,
   "id": "f143dee2",
   "metadata": {},
   "outputs": [],
   "source": []
  },
  {
   "cell_type": "code",
   "execution_count": null,
   "id": "069288d7",
   "metadata": {},
   "outputs": [],
   "source": []
  },
  {
   "cell_type": "code",
   "execution_count": null,
   "id": "192e3007",
   "metadata": {},
   "outputs": [],
   "source": []
  },
  {
   "cell_type": "code",
   "execution_count": null,
   "id": "2dcb66ec",
   "metadata": {},
   "outputs": [],
   "source": []
  }
 ],
 "metadata": {
  "kernelspec": {
   "display_name": "Python 3 (ipykernel)",
   "language": "python",
   "name": "python3"
  },
  "language_info": {
   "codemirror_mode": {
    "name": "ipython",
    "version": 3
   },
   "file_extension": ".py",
   "mimetype": "text/x-python",
   "name": "python",
   "nbconvert_exporter": "python",
   "pygments_lexer": "ipython3",
   "version": "3.10.9"
  }
 },
 "nbformat": 4,
 "nbformat_minor": 5
}
