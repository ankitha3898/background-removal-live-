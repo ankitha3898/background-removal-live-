{
 "cells": [
  {
   "cell_type": "code",
   "execution_count": 1,
   "id": "e395179c",
   "metadata": {},
   "outputs": [],
   "source": [
    "import numpy as np\n",
    "import mediapipe as mp\n",
    "import cv2\n",
    "import cvzone\n",
    "from cvzone.SelfiSegmentationModule import SelfiSegmentation"
   ]
  },
  {
   "cell_type": "code",
   "execution_count": 2,
   "id": "83b11380",
   "metadata": {},
   "outputs": [],
   "source": [
    "seg=mp.solutions.selfie_segmentation.SelfieSegmentation(model_selection=1)"
   ]
  },
  {
   "cell_type": "code",
   "execution_count": 3,
   "id": "fa63bbbf",
   "metadata": {},
   "outputs": [
    {
     "name": "stdout",
     "output_type": "stream",
     "text": [
      "C:\\Users\\Elorce\\images\\1.jpg\n",
      "C:\\Users\\Elorce\\images\\2.jpg\n",
      "C:\\Users\\Elorce\\images\\3.jpg\n"
     ]
    }
   ],
   "source": [
    "folder=r'C:\\Users\\Elorce\\images'\n",
    "import matplotlib.image as mpimg\n",
    "import os\n",
    "images = []\n",
    "for filename in os.listdir(folder):\n",
    "    print(os.path.join(folder, filename))\n",
    "    file=os.path.join(folder, filename)\n",
    "    images.append(file)\n",
    "    \n",
    "#     print(os.path.join(folder, filename))\n",
    "# #         img = mpimg.imread(os.path.join(folder, filename))\n",
    "# #         if img is not None:\n",
    "# #             images.append(img)\n",
    "# #     return images\n"
   ]
  },
  {
   "cell_type": "code",
   "execution_count": 4,
   "id": "9603f771",
   "metadata": {},
   "outputs": [
    {
     "name": "stdout",
     "output_type": "stream",
     "text": [
      "enter the number:0\n"
     ]
    }
   ],
   "source": [
    "enter=int(input('enter the number:'))"
   ]
  },
  {
   "cell_type": "code",
   "execution_count": 5,
   "id": "446052eb",
   "metadata": {},
   "outputs": [],
   "source": [
    "sel=images[enter]"
   ]
  },
  {
   "cell_type": "code",
   "execution_count": 6,
   "id": "877350a5",
   "metadata": {},
   "outputs": [
    {
     "data": {
      "text/plain": [
       "'C:\\\\Users\\\\Elorce\\\\images\\\\1.jpg'"
      ]
     },
     "execution_count": 6,
     "metadata": {},
     "output_type": "execute_result"
    }
   ],
   "source": [
    "sel"
   ]
  },
  {
   "cell_type": "code",
   "execution_count": 7,
   "id": "9dedd137",
   "metadata": {},
   "outputs": [],
   "source": [
    "bachgrd=cv2.imread(r'C:/Users/Elorce/Downloads/1.jpg')"
   ]
  },
  {
   "cell_type": "code",
   "execution_count": 8,
   "id": "c7953f51",
   "metadata": {},
   "outputs": [],
   "source": [
    "cap=cv2.VideoCapture(0)\n",
    "# cap.set(3,648)\n",
    "# cap.set(4,488)\n",
    "cap.set(cv2.CAP_PROP_FPS,68)\n",
    "segmentor=SelfiSegmentation()\n",
    "#fpsReader=cvzone.FPS()\n",
    "imgBG=cv2.imread(sel)\n",
    "imgBG = cv2.resize(imgBG, (640, 480))\n",
    "while True:\n",
    "    success,img=cap.read()\n",
    "    imgOut=segmentor.removeBG(img,imgBG,cutThreshold=0.6)\n",
    "    cv2.imshow('img',img)\n",
    "    cv2.imshow('imgout',imgOut)\n",
    "    if cv2.waitKey(0) :\n",
    "         break\n",
    "cap.release()\n",
    "cv2.destroyAllWindows()"
   ]
  },
  {
   "cell_type": "code",
   "execution_count": null,
   "id": "7176f7bf",
   "metadata": {},
   "outputs": [],
   "source": []
  }
 ],
 "metadata": {
  "kernelspec": {
   "display_name": "Python 3 (ipykernel)",
   "language": "python",
   "name": "python3"
  },
  "language_info": {
   "codemirror_mode": {
    "name": "ipython",
    "version": 3
   },
   "file_extension": ".py",
   "mimetype": "text/x-python",
   "name": "python",
   "nbconvert_exporter": "python",
   "pygments_lexer": "ipython3",
   "version": "3.10.9"
  }
 },
 "nbformat": 4,
 "nbformat_minor": 5
}
